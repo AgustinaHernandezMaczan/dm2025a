{
  "cells": [
    {
      "cell_type": "markdown",
      "metadata": {
        "id": "view-in-github",
        "colab_type": "text"
      },
      "source": [
        "<a href=\"https://colab.research.google.com/github/AgustinaHernandezMaczan/dm2025a/blob/main/Final_Catastrophe_Analysis_z610_WorkFlow_01_gerencial.ipynb\" target=\"_parent\"><img src=\"https://colab.research.google.com/assets/colab-badge.svg\" alt=\"Open In Colab\"/></a>"
      ]
    },
    {
      "cell_type": "markdown",
      "id": "859d38e7-11c0-48bc-978a-d0e907f19ed1",
      "metadata": {
        "id": "859d38e7-11c0-48bc-978a-d0e907f19ed1"
      },
      "source": [
        "# 6 WorkFlow"
      ]
    },
    {
      "cell_type": "markdown",
      "id": "29c586e3-ed7d-44b2-92a0-f19669f06940",
      "metadata": {
        "id": "29c586e3-ed7d-44b2-92a0-f19669f06940"
      },
      "source": [
        "### 6.1 Objetivo"
      ]
    },
    {
      "cell_type": "markdown",
      "id": "6fff8327-10ed-4b11-bbee-f1c3f357d123",
      "metadata": {
        "id": "6fff8327-10ed-4b11-bbee-f1c3f357d123"
      },
      "source": [
        "Presentar un workflow/pipeline completo al que los estudiantes deberán enriquecer"
      ]
    },
    {
      "cell_type": "markdown",
      "source": [
        "#### 6.2  Seteo del ambiente en Google Colab"
      ],
      "metadata": {
        "id": "PX0qg_c0yqob"
      },
      "id": "PX0qg_c0yqob"
    },
    {
      "cell_type": "markdown",
      "metadata": {
        "id": "NGY7H9xza7Zr"
      },
      "source": [
        "Esta parte se debe correr con el runtime en Python3\n",
        "<br>Ir al menu, Runtime -> Change Runtime Type -> Runtime type ->  **Python 3**"
      ],
      "id": "NGY7H9xza7Zr"
    },
    {
      "cell_type": "markdown",
      "metadata": {
        "id": "7PupIBNba7Zr"
      },
      "source": [
        "Conectar la virtual machine donde esta corriendo Google Colab con el  Google Drive, para poder tener persistencia de archivos"
      ],
      "id": "7PupIBNba7Zr"
    },
    {
      "cell_type": "code",
      "execution_count": null,
      "metadata": {
        "id": "9LpZCst5a7Zs",
        "colab": {
          "base_uri": "https://localhost:8080/"
        },
        "outputId": "7fde99d4-132c-4199-f1f2-6fc16f304ee3"
      },
      "outputs": [
        {
          "output_type": "stream",
          "name": "stdout",
          "text": [
            "Mounted at /content/.drive\n"
          ]
        }
      ],
      "source": [
        "# primero establecer el Runtime de Python 3\n",
        "from google.colab import drive\n",
        "drive.mount('/content/.drive')"
      ],
      "id": "9LpZCst5a7Zs"
    },
    {
      "cell_type": "markdown",
      "metadata": {
        "id": "JYC_F-wla7Zs"
      },
      "source": [
        "Para correr la siguiente celda es fundamental en Arranque en Frio haber copiado el archivo kaggle.json al Google Drive, en la carpeta indicada en el instructivo\n",
        "\n",
        "<br>los siguientes comando estan en shell script de Linux\n",
        "*   Crear las carpetas en el Google Drive\n",
        "*   \"instalar\" el archivo kaggle.json desde el Google Drive a la virtual machine para que pueda ser utilizado por la libreria  kaggle de Python\n",
        "*   Bajar el  **dataset_pequeno**  al  Google Drive  y tambien al disco local de la virtual machine que esta corriendo Google Colab\n",
        "*   Bajar el **dataset_historico** al Google Drive y tambien al disco local de la virtual machine que esta corriendo Google Colab\n",
        "\n"
      ],
      "id": "JYC_F-wla7Zs"
    },
    {
      "cell_type": "code",
      "execution_count": null,
      "metadata": {
        "id": "XWLelftXa7Zt",
        "colab": {
          "base_uri": "https://localhost:8080/"
        },
        "outputId": "1d141321-35a1-4ce0-9cd1-c7b1b16c576e"
      },
      "outputs": [
        {
          "output_type": "execute_result",
          "data": {
            "text/plain": []
          },
          "metadata": {},
          "execution_count": 2
        }
      ],
      "source": [
        "%%shell\n",
        "\n",
        "mkdir -p \"/content/.drive/My Drive/dm\"\n",
        "mkdir -p \"/content/buckets\"\n",
        "ln -s \"/content/.drive/My Drive/dm\" /content/buckets/b1\n",
        "\n",
        "mkdir -p ~/.kaggle\n",
        "cp /content/buckets/b1/kaggle/kaggle.json  ~/.kaggle\n",
        "chmod 600 ~/.kaggle/kaggle.json\n",
        "\n",
        "\n",
        "mkdir -p /content/buckets/b1/exp\n",
        "mkdir -p /content/buckets/b1/datasets\n",
        "mkdir -p /content/datasets\n",
        "\n",
        "\n",
        "webfiles=\"https://storage.googleapis.com/open-courses/itba2025-8d0a/\"\n",
        "destino_local=\"/content/datasets\"\n",
        "destino_bucket=\"/content/buckets/b1/datasets\"\n",
        "\n",
        "\n",
        "archivo=\"dataset_pequeno.csv\"\n",
        "\n",
        "if ! test -f $destino_bucket/$archivo; then\n",
        "  wget  $webfiles/$archivo  -O $destino_bucket/$archivo\n",
        "fi\n",
        "\n",
        "\n",
        "if ! test -f $destino_local/$pequeno; then\n",
        "  cp  $destino_bucket/$archivo  $destino_local/$archivo\n",
        "fi\n",
        "\n",
        "#-------\n",
        "\n",
        "archivo=\"gerencial_competencia_2025.csv.gz\"\n",
        "\n",
        "if ! test -f $destino_bucket/$archivo; then\n",
        "  wget  $webfiles/$archivo  -O $destino_bucket/$archivo\n",
        "fi\n",
        "\n",
        "\n",
        "if ! test -f $destino_local/$pequeno; then\n",
        "  cp  $destino_bucket/$archivo  $destino_local/$archivo\n",
        "fi\n"
      ],
      "id": "XWLelftXa7Zt"
    },
    {
      "cell_type": "markdown",
      "source": [
        "## 6.3  Workflow"
      ],
      "metadata": {
        "id": "oSKhZRToy2F7"
      },
      "id": "oSKhZRToy2F7"
    },
    {
      "cell_type": "markdown",
      "id": "85171302-a2d6-48cb-b9b2-8d839a276859",
      "metadata": {
        "id": "85171302-a2d6-48cb-b9b2-8d839a276859"
      },
      "source": [
        "## Inicializacion"
      ]
    },
    {
      "cell_type": "markdown",
      "metadata": {
        "id": "eSU5vi00CPRS"
      },
      "source": [
        "Esta parte se debe correr con el runtime en lenguaje **R** Ir al menu, Runtime -> Change Runtime Type -> Runtime type -> R"
      ],
      "id": "eSU5vi00CPRS"
    },
    {
      "cell_type": "markdown",
      "metadata": {
        "id": "Zq8dySimCPRT"
      },
      "source": [
        "limpio el ambiente de R"
      ],
      "id": "Zq8dySimCPRT"
    },
    {
      "cell_type": "code",
      "source": [
        "format(Sys.time(), \"%a %b %d %X %Y\")"
      ],
      "metadata": {
        "id": "EL8wdHaUs59K",
        "colab": {
          "base_uri": "https://localhost:8080/",
          "height": 34
        },
        "outputId": "50c36f98-314d-4c8e-f741-db577389d04a"
      },
      "id": "EL8wdHaUs59K",
      "execution_count": null,
      "outputs": [
        {
          "output_type": "display_data",
          "data": {
            "text/html": [
              "'Sat Aug 16 01:13:47 PM 2025'"
            ],
            "text/markdown": "'Sat Aug 16 01:13:47 PM 2025'",
            "text/latex": "'Sat Aug 16 01:13:47 PM 2025'",
            "text/plain": [
              "[1] \"Sat Aug 16 01:13:47 PM 2025\""
            ]
          },
          "metadata": {}
        }
      ]
    },
    {
      "cell_type": "code",
      "execution_count": null,
      "metadata": {
        "id": "1iE0U4_WCPRT",
        "colab": {
          "base_uri": "https://localhost:8080/",
          "height": 129
        },
        "outputId": "d8dbd2ff-7392-4f21-e984-d6d1b7ee3ca1"
      },
      "outputs": [
        {
          "output_type": "display_data",
          "data": {
            "text/html": [
              "<table class=\"dataframe\">\n",
              "<caption>A matrix: 2 × 6 of type dbl</caption>\n",
              "<thead>\n",
              "\t<tr><th></th><th scope=col>used</th><th scope=col>(Mb)</th><th scope=col>gc trigger</th><th scope=col>(Mb)</th><th scope=col>max used</th><th scope=col>(Mb)</th></tr>\n",
              "</thead>\n",
              "<tbody>\n",
              "\t<tr><th scope=row>Ncells</th><td> 659644</td><td>35.3</td><td>1454468</td><td>77.7</td><td>1433629</td><td>76.6</td></tr>\n",
              "\t<tr><th scope=row>Vcells</th><td>1225712</td><td> 9.4</td><td>8388608</td><td>64.0</td><td>1975128</td><td>15.1</td></tr>\n",
              "</tbody>\n",
              "</table>\n"
            ],
            "text/markdown": "\nA matrix: 2 × 6 of type dbl\n\n| <!--/--> | used | (Mb) | gc trigger | (Mb) | max used | (Mb) |\n|---|---|---|---|---|---|---|\n| Ncells |  659644 | 35.3 | 1454468 | 77.7 | 1433629 | 76.6 |\n| Vcells | 1225712 |  9.4 | 8388608 | 64.0 | 1975128 | 15.1 |\n\n",
            "text/latex": "A matrix: 2 × 6 of type dbl\n\\begin{tabular}{r|llllll}\n  & used & (Mb) & gc trigger & (Mb) & max used & (Mb)\\\\\n\\hline\n\tNcells &  659644 & 35.3 & 1454468 & 77.7 & 1433629 & 76.6\\\\\n\tVcells & 1225712 &  9.4 & 8388608 & 64.0 & 1975128 & 15.1\\\\\n\\end{tabular}\n",
            "text/plain": [
              "       used    (Mb) gc trigger (Mb) max used (Mb)\n",
              "Ncells  659644 35.3 1454468    77.7 1433629  76.6\n",
              "Vcells 1225712  9.4 8388608    64.0 1975128  15.1"
            ]
          },
          "metadata": {}
        }
      ],
      "source": [
        "# limpio la memoria\n",
        "rm(list=ls(all.names=TRUE)) # remove all objects\n",
        "gc(full=TRUE, verbose=FALSE) # garbage collection"
      ],
      "id": "1iE0U4_WCPRT"
    },
    {
      "cell_type": "code",
      "source": [
        "require(\"data.table\")\n",
        "\n",
        "if( !require(\"R.utils\")) install.packages(\"R.utils\")\n",
        "require(\"R.utils\")"
      ],
      "metadata": {
        "id": "atmIUEUNUrK5",
        "colab": {
          "base_uri": "https://localhost:8080/"
        },
        "outputId": "5bb8b9e4-1825-4930-d5da-afcfcffe4085"
      },
      "id": "atmIUEUNUrK5",
      "execution_count": null,
      "outputs": [
        {
          "output_type": "stream",
          "name": "stderr",
          "text": [
            "Loading required package: data.table\n",
            "\n",
            "Loading required package: R.utils\n",
            "\n",
            "Warning message in library(package, lib.loc = lib.loc, character.only = TRUE, logical.return = TRUE, :\n",
            "“there is no package called ‘R.utils’”\n",
            "Installing package into ‘/usr/local/lib/R/site-library’\n",
            "(as ‘lib’ is unspecified)\n",
            "\n",
            "also installing the dependencies ‘R.oo’, ‘R.methodsS3’\n",
            "\n",
            "\n",
            "Loading required package: R.utils\n",
            "\n",
            "Loading required package: R.oo\n",
            "\n",
            "Loading required package: R.methodsS3\n",
            "\n",
            "R.methodsS3 v1.8.2 (2022-06-13 22:00:14 UTC) successfully loaded. See ?R.methodsS3 for help.\n",
            "\n",
            "R.oo v1.27.1 (2025-05-02 21:00:05 UTC) successfully loaded. See ?R.oo for help.\n",
            "\n",
            "\n",
            "Attaching package: ‘R.oo’\n",
            "\n",
            "\n",
            "The following object is masked from ‘package:R.methodsS3’:\n",
            "\n",
            "    throw\n",
            "\n",
            "\n",
            "The following objects are masked from ‘package:methods’:\n",
            "\n",
            "    getClasses, getMethods\n",
            "\n",
            "\n",
            "The following objects are masked from ‘package:base’:\n",
            "\n",
            "    attach, detach, load, save\n",
            "\n",
            "\n",
            "R.utils v2.13.0 (2025-02-24 21:20:02 UTC) successfully loaded. See ?R.utils for help.\n",
            "\n",
            "\n",
            "Attaching package: ‘R.utils’\n",
            "\n",
            "\n",
            "The following object is masked from ‘package:utils’:\n",
            "\n",
            "    timestamp\n",
            "\n",
            "\n",
            "The following objects are masked from ‘package:base’:\n",
            "\n",
            "    cat, commandArgs, getOption, isOpen, nullfile, parse, use, warnings\n",
            "\n",
            "\n"
          ]
        }
      ]
    },
    {
      "cell_type": "markdown",
      "source": [
        "#### Parametros\n",
        "Si es gerente, no cambie nada\n",
        "<br>Si es Analista, cambie el nombre del dataset"
      ],
      "metadata": {
        "id": "BsxZ_ONyj9L_"
      },
      "id": "BsxZ_ONyj9L_"
    },
    {
      "cell_type": "code",
      "source": [
        "PARAM <- list()\n",
        "PARAM$semilla_primigenia <- 102191\n",
        "\n",
        "PARAM$experimento <- 6300\n",
        "PARAM$dataset <- \"gerencial_competencia_2025.csv.gz\""
      ],
      "metadata": {
        "id": "peRH7ySLCPRV"
      },
      "execution_count": null,
      "outputs": [],
      "id": "peRH7ySLCPRV"
    },
    {
      "cell_type": "markdown",
      "source": [
        "#### Carpeta del Experimento"
      ],
      "metadata": {
        "id": "NoJbKo_4NG8A"
      },
      "id": "NoJbKo_4NG8A"
    },
    {
      "cell_type": "code",
      "source": [
        "# carpeta de trabajo\n",
        "\n",
        "setwd(\"/content/buckets/b1/exp\")\n",
        "experimento_folder <- paste0(\"WF\", PARAM$experimento)\n",
        "dir.create(experimento_folder, showWarnings=FALSE)\n",
        "setwd( paste0(\"/content/buckets/b1/exp/\", experimento_folder ))"
      ],
      "metadata": {
        "id": "1gZD6ZMvCPRV"
      },
      "execution_count": null,
      "outputs": [],
      "id": "1gZD6ZMvCPRV"
    },
    {
      "cell_type": "markdown",
      "source": [
        "### 6.3.1   Preprocesamiento del dataset"
      ],
      "metadata": {
        "id": "YVKBfLtkR8SO"
      },
      "id": "YVKBfLtkR8SO"
    },
    {
      "cell_type": "markdown",
      "source": [
        "#### 6.3.1.1  DT incorporar dataset"
      ],
      "metadata": {
        "id": "cr3K0RPVRjq6"
      },
      "id": "cr3K0RPVRjq6"
    },
    {
      "cell_type": "code",
      "source": [
        "# lectura del dataset\n",
        "dataset <- fread(paste0(\"/content/datasets/\", PARAM$dataset))"
      ],
      "metadata": {
        "id": "Xi0emX2ECPRV"
      },
      "execution_count": null,
      "outputs": [],
      "id": "Xi0emX2ECPRV"
    },
    {
      "cell_type": "markdown",
      "source": [
        "#### 6.3.1.2  CA  Catastrophe Analysis\n",
        "Se intentan reparar las variables que para un mes están con todos los valores en cero."
      ],
      "metadata": {
        "id": "MWuPzK3nSLY3"
      },
      "id": "MWuPzK3nSLY3"
    },
    {
      "cell_type": "markdown",
      "source": [
        "El método que se utiliza es **Machine Learning** se asigna NA also valores, si ha leido bien, es la \"anti imputación de valores faltantes\"\n",
        "<br> Usted podrá aplicar aquí otros métodos"
      ],
      "metadata": {
        "id": "UAI16-yCVcBS"
      },
      "id": "UAI16-yCVcBS"
    },
    {
      "cell_type": "code",
      "source": [
        "dataset[ foto_mes==202006, internet:=NA]\n",
        "dataset[ foto_mes==202006, mrentabilidad:=NA]\n",
        "dataset[ foto_mes==202006, mrentabilidad_annual:=NA]\n",
        "dataset[ foto_mes==202006, mcomisiones:=NA]\n",
        "dataset[ foto_mes==202006, mactivos_margen:=NA]\n",
        "dataset[ foto_mes==202006, mpasivos_margen:=NA]\n",
        "dataset[ foto_mes==202006, mcuentas_saldo:=NA]\n",
        "dataset[ foto_mes==202006, ctarjeta_visa_transacciones:=NA]\n",
        "dataset[ foto_mes==202006, mtarjeta_visa_consumo:=NA]\n",
        "dataset[ foto_mes==202006, mtarjeta_master_consumo:=NA]\n",
        "dataset[ foto_mes==202006, ccallcenter_transacciones:=NA]\n",
        "dataset[ foto_mes==202006, chomebanking_transacciones:=NA]\n",
        "dataset[ foto_mes==202006, chomebanking_transacciones:=NA]"
      ],
      "metadata": {
        "id": "sTmliO_FXv9E"
      },
      "id": "sTmliO_FXv9E",
      "execution_count": null,
      "outputs": []
    },
    {
      "cell_type": "code",
      "source": [
        "if( !require(\"mice\")) install.packages(\"mice\", repos = \"http://cran.us.r-project.org\")\n",
        "require(\"mice\")"
      ],
      "metadata": {
        "colab": {
          "base_uri": "https://localhost:8080/"
        },
        "id": "k3esmdZe4lM4",
        "outputId": "3ae18e48-e875-4ca2-e305-ddf1fbf32ff1"
      },
      "id": "k3esmdZe4lM4",
      "execution_count": null,
      "outputs": [
        {
          "output_type": "stream",
          "name": "stderr",
          "text": [
            "Loading required package: mice\n",
            "\n",
            "Warning message in library(package, lib.loc = lib.loc, character.only = TRUE, logical.return = TRUE, :\n",
            "“there is no package called ‘mice’”\n",
            "Installing package into ‘/usr/local/lib/R/site-library’\n",
            "(as ‘lib’ is unspecified)\n",
            "\n",
            "also installing the dependencies ‘rbibutils’, ‘Rdpack’, ‘minqa’, ‘nloptr’, ‘reformulas’, ‘ucminf’, ‘numDeriv’, ‘iterators’, ‘lme4’, ‘ordinal’, ‘foreach’, ‘shape’, ‘RcppEigen’, ‘pan’, ‘jomo’, ‘glmnet’, ‘mitml’\n",
            "\n",
            "\n",
            "Loading required package: mice\n",
            "\n",
            "\n",
            "Attaching package: ‘mice’\n",
            "\n",
            "\n",
            "The following object is masked from ‘package:stats’:\n",
            "\n",
            "    filter\n",
            "\n",
            "\n",
            "The following objects are masked from ‘package:base’:\n",
            "\n",
            "    cbind, rbind\n",
            "\n",
            "\n"
          ]
        }
      ]
    },
    {
      "cell_type": "code",
      "source": [
        "# Escrito por alumnos de  Universidad Austral  Rosario\n",
        "\n",
        "Corregir_MICE <- function(pcampo, pmeses) {\n",
        "\n",
        "  meth <- rep(\"\", ncol(dataset))\n",
        "  names(meth) <- colnames(dataset)\n",
        "  meth[names(meth) == pcampo] <- \"sample\"\n",
        "\n",
        "  # llamada a mice  !\n",
        "  imputacion <- mice(dataset,\n",
        "    method = meth,\n",
        "    maxit = 5,\n",
        "    m = 1,\n",
        "    seed = 7)\n",
        "\n",
        "  tbl <- mice::complete(dataset)\n",
        "\n",
        "  dataset[, paste0(pcampo) := ifelse(foto_mes %in% pmeses, tbl[, get(pcampo)], get(pcampo))]\n",
        "\n",
        "}\n"
      ],
      "metadata": {
        "id": "kSwhy-Fx4l32"
      },
      "id": "kSwhy-Fx4l32",
      "execution_count": null,
      "outputs": []
    },
    {
      "cell_type": "code",
      "source": [
        "Corregir_interpolar <- function(pcampo, pmeses) {\n",
        "\n",
        "  tbl <- dataset[, list(\n",
        "    \"v1\" = shift(get(pcampo), 1, type = \"lag\"),\n",
        "    \"v2\" = shift(get(pcampo), 1, type = \"lead\")\n",
        "  ),\n",
        "  by = eval(PARAM$dataset_metadata$entity_id)\n",
        "  ]\n",
        "\n",
        "  tbl[, paste0(PARAM$dataset_metadata$entity_id) := NULL]\n",
        "  tbl[, promedio := rowMeans(tbl, na.rm = TRUE)]\n",
        "\n",
        "  dataset[\n",
        "    ,\n",
        "    paste0(pcampo) := ifelse(!(foto_mes %in% pmeses),\n",
        "      get(pcampo),\n",
        "      tbl$promedio\n",
        "    )\n",
        "  ]\n",
        "}"
      ],
      "metadata": {
        "id": "0AG8Jdfi4pbt"
      },
      "id": "0AG8Jdfi4pbt",
      "execution_count": null,
      "outputs": []
    },
    {
      "cell_type": "code",
      "source": [
        "AsignarNA_campomeses <- function(pcampo, pmeses) {\n",
        "\n",
        "  if( pcampo %in% colnames( dataset ) ) {\n",
        "\n",
        "    dataset[ foto_mes %in% pmeses, paste0(pcampo) := NA ]\n",
        "  }\n",
        "}"
      ],
      "metadata": {
        "id": "nUmUUG4r4rbl"
      },
      "id": "nUmUUG4r4rbl",
      "execution_count": null,
      "outputs": []
    },
    {
      "cell_type": "code",
      "source": [
        "Corregir_atributo <- function(pcampo, pmeses, pmetodo)\n",
        "{\n",
        "  # si el campo no existe en el dataset, Afuera !\n",
        "  if( !(pcampo %in% colnames( dataset )) )\n",
        "    return( 1 )\n",
        "\n",
        "  # llamo a la funcion especializada que corresponde\n",
        "  switch( pmetodo,\n",
        "    \"MachineLearning\"     = AsignarNA_campomeses(pcampo, pmeses),\n",
        "    \"EstadisticaClasica\"  = Corregir_interpolar(pcampo, pmeses),\n",
        "    \"MICE\"                = Corregir_MICE(pcampo, pmeses),\n",
        "  )\n",
        "\n",
        "  return( 0 )\n",
        "}"
      ],
      "metadata": {
        "id": "SJexJ3l44uUF"
      },
      "id": "SJexJ3l44uUF",
      "execution_count": null,
      "outputs": []
    },
    {
      "cell_type": "code",
      "source": [
        "Corregir_Rotas <- function(dataset, pmetodo) {\n",
        "  gc(verbose= FALSE)\n",
        "  cat( \"inicio Corregir_Rotas()\\n\")\n",
        "  # acomodo los errores del dataset\n",
        "\n",
        "  Corregir_atributo(\"active_quarter\", c(202006), pmetodo) # 1\n",
        "  Corregir_atributo(\"internet\", c(202006), pmetodo) # 2\n",
        "\n",
        "  Corregir_atributo(\"mrentabilidad\", c(201905, 201910, 202006), pmetodo) # 3\n",
        "  Corregir_atributo(\"mrentabilidad_annual\", c(201905, 201910, 202006), pmetodo) # 4\n",
        "\n",
        "  Corregir_atributo(\"mcomisiones\", c(201905, 201910, 202006), pmetodo) # 5\n",
        "\n",
        "  Corregir_atributo(\"mactivos_margen\", c(201905, 201910, 202006), pmetodo) # 6\n",
        "  Corregir_atributo(\"mpasivos_margen\", c(201905, 201910, 202006), pmetodo) # 7\n",
        "\n",
        "  Corregir_atributo(\"mcuentas_saldo\", c(202006), pmetodo) # 8\n",
        "\n",
        "  Corregir_atributo(\"ctarjeta_debito_transacciones\", c(202006), pmetodo) # 9\n",
        "\n",
        "  Corregir_atributo(\"mautoservicio\", c(202006), pmetodo) # 10\n",
        "\n",
        "  Corregir_atributo(\"ctarjeta_visa_transacciones\", c(202006), pmetodo) # 11\n",
        "  Corregir_atributo(\"mtarjeta_visa_consumo\", c(202006), pmetodo) # 12\n",
        "\n",
        "  Corregir_atributo(\"ctarjeta_master_transacciones\", c(202006), pmetodo) # 13\n",
        "  Corregir_atributo(\"mtarjeta_master_consumo\", c(202006), pmetodo) # 14\n",
        "\n",
        "  Corregir_atributo(\"ctarjeta_visa_debitos_automaticos\", c(201904), pmetodo) # 15\n",
        "  Corregir_atributo(\"mttarjeta_visa_debitos_automaticos\", c(201904), pmetodo) # 16\n",
        "\n",
        "  Corregir_atributo(\"ccajeros_propios_descuentos\",\n",
        "    c(201910, 202002, 202006, 202009, 202010, 202102), pmetodo) # 17\n",
        "\n",
        "  Corregir_atributo(\"mcajeros_propios_descuentos\",\n",
        "    c(201910, 202002, 202006, 202009, 202010, 202102), pmetodo) # 18\n",
        "\n",
        "  Corregir_atributo(\"ctarjeta_visa_descuentos\",\n",
        "    c(201910, 202002, 202006, 202009, 202010, 202102), pmetodo) # 19\n",
        "\n",
        "  Corregir_atributo(\"mtarjeta_visa_descuentos\",\n",
        "    c(201910, 202002, 202006, 202009, 202010, 202102), pmetodo) # 20\n",
        "\n",
        "  Corregir_atributo(\"ctarjeta_master_descuentos\",\n",
        "    c(201910, 202002, 202006, 202009, 202010, 202102), pmetodo) # 21\n",
        "\n",
        "  Corregir_atributo(\"mtarjeta_master_descuentos\",\n",
        "    c(201910, 202002, 202006, 202009, 202010, 202102), pmetodo) # 22\n",
        "\n",
        "  Corregir_atributo(\"ccomisiones_otras\", c(201905, 201910, 202006), pmetodo) # 23\n",
        "  Corregir_atributo(\"mcomisiones_otras\", c(201905, 201910, 202006), pmetodo) # 24\n",
        "\n",
        "  Corregir_atributo(\"cextraccion_autoservicio\", c(202006), pmetodo) # 25\n",
        "  Corregir_atributo(\"mextraccion_autoservicio\", c(202006), pmetodo) # 26\n",
        "\n",
        "  Corregir_atributo(\"ccheques_depositados\", c(202006), pmetodo) # 27\n",
        "  Corregir_atributo(\"mcheques_depositados\", c(202006), pmetodo) # 28\n",
        "  Corregir_atributo(\"ccheques_emitidos\", c(202006), pmetodo) # 29\n",
        "  Corregir_atributo(\"mcheques_emitidos\", c(202006), pmetodo) # 30\n",
        "  Corregir_atributo(\"ccheques_depositados_rechazados\", c(202006), pmetodo) # 31\n",
        "  Corregir_atributo(\"mcheques_depositados_rechazados\", c(202006), pmetodo) # 32\n",
        "  Corregir_atributo(\"ccheques_emitidos_rechazados\", c(202006), pmetodo) # 33\n",
        "  Corregir_atributo(\"mcheques_emitidos_rechazados\", c(202006), pmetodo) # 34\n",
        "\n",
        "  Corregir_atributo(\"tcallcenter\", c(202006), pmetodo) # 35\n",
        "  Corregir_atributo(\"ccallcenter_transacciones\", c(202006), pmetodo) # 36\n",
        "\n",
        "  Corregir_atributo(\"thomebanking\", c(202006), pmetodo) # 37\n",
        "  Corregir_atributo(\"chomebanking_transacciones\", c(201910, 202006), pmetodo) # 38\n",
        "\n",
        "  Corregir_atributo(\"ccajas_transacciones\", c(202006), pmetodo) # 39\n",
        "  Corregir_atributo(\"ccajas_consultas\", c(202006), pmetodo) # 40\n",
        "\n",
        "  Corregir_atributo(\"ccajas_depositos\", c(202006, 202105), pmetodo) # 41\n",
        "\n",
        "  Corregir_atributo(\"ccajas_extracciones\", c(202006), pmetodo) # 41\n",
        "  Corregir_atributo(\"ccajas_otras\", c(202006), pmetodo) # 43\n",
        "\n",
        "  Corregir_atributo(\"catm_trx\", c(202006), pmetodo) # 44\n",
        "  Corregir_atributo(\"matm\", c(202006), pmetodo) # 45\n",
        "  Corregir_atributo(\"catm_trx_other\", c(202006), pmetodo) # 46\n",
        "  Corregir_atributo(\"matm_other\", c(202006), pmetodo) # 47\n",
        "\n",
        "  cat( \"fin Corregir_rotas()\\n\")\n",
        "}\n"
      ],
      "metadata": {
        "id": "rpR2uZXB4w5_"
      },
      "id": "rpR2uZXB4w5_",
      "execution_count": null,
      "outputs": []
    },
    {
      "cell_type": "code",
      "source": [
        "# resuelvo el Catastrophe Analysis\n",
        "\n",
        "setorder( dataset, numero_de_cliente, foto_mes )\n",
        "\n",
        "PARAM$CA$metodo= \"EstadisticaClasica\"\n",
        "\n",
        "if( PARAM$CA$metodo %in% c(\"MachineLearning\", \"EstadisticaClasica\", \"MICE\") )\n",
        "  Corregir_Rotas(dataset, PARAM$CA$metodo)"
      ],
      "metadata": {
        "colab": {
          "base_uri": "https://localhost:8080/"
        },
        "id": "IEeDNXRj4xjZ",
        "outputId": "100f14cd-dea9-4007-ad09-4381d1910a1f"
      },
      "id": "IEeDNXRj4xjZ",
      "execution_count": null,
      "outputs": [
        {
          "output_type": "stream",
          "name": "stdout",
          "text": [
            "inicio Corregir_Rotas()\n",
            "fin Corregir_rotas()\n"
          ]
        }
      ]
    },
    {
      "cell_type": "markdown",
      "id": "cf91ea5e-3341-4afb-8d05-cc4923d3d1e1",
      "metadata": {
        "id": "cf91ea5e-3341-4afb-8d05-cc4923d3d1e1"
      },
      "source": [
        "### 6.3.2 Modelado"
      ]
    },
    {
      "cell_type": "markdown",
      "id": "526048e4-8cf2-4023-bd2d-a70e4e9ff157",
      "metadata": {
        "id": "526048e4-8cf2-4023-bd2d-a70e4e9ff157"
      },
      "source": [
        "#### 6.3.2.1 Training Strategy\n",
        "\n",
        "Esta etapa de Workflow de  Training Strategy esta pensada para la *Modalidad Gerencial* que posee el dataset de [202005, 202109]\n",
        "<br> Si usted es un Analista, posee el periodo de [201901, 202109] y deberá experimentar en que meses le conviene experimentar\n",
        "\n",
        "<br> A la *Modalidad Gerencial* no se le complicada la vida con el undersampling de los continua, por eso PARAM$trainingstrategy$training_pct <- 1.0\n",
        "<br> Sin embargo, si usted es  *Analista SR* posee un dataset 50 veces ( filas x columnas) más grande que la *Modalidad Gerencial*  y por un tema de velocidad y experimentación más rápida puede llegar a necesitar activar el undersampling de la clase mayoritaria, a pesar de estar corriendo en Google Cloud."
      ]
    },
    {
      "cell_type": "markdown",
      "id": "f16bc1c1-b3ea-43ca-9d3c-53f8f9ab8ec1",
      "metadata": {
        "id": "f16bc1c1-b3ea-43ca-9d3c-53f8f9ab8ec1"
      },
      "source": [
        "Se hace una estrategia de entrenamiento muy sencilla, tomando todos los meses posibles, SIN eliminar nada x pandemia ni por ningun otro motivo\n",
        "\n",
        "* future = 202109  obviamente completo\n",
        "\n",
        "* final_train =  [ 202005, 202107 ]  SIN undersampling\n",
        "\n",
        "* training\n",
        "   * testing = NO HAY\n",
        "   * validation =  202107   completo, sin undersampling\n",
        "   * training = [ 202005, 202106 ]  donde se consideran el 100% de los CONTINUA"
      ]
    },
    {
      "cell_type": "code",
      "execution_count": null,
      "id": "2c9c0a42-ba58-4264-8566-091a6161716f",
      "metadata": {
        "id": "2c9c0a42-ba58-4264-8566-091a6161716f"
      },
      "outputs": [],
      "source": [
        "PARAM$trainingstrategy$validate <- c(202107)\n",
        "\n",
        "PARAM$trainingstrategy$training <- c(\n",
        "  202106, 202105, 202104, 202103, 202102, 202101,\n",
        "  202012, 202011, 202010, 202009, 202008, 202007,\n",
        "  202006, 202005\n",
        ")\n",
        "\n",
        "PARAM$trainingstrategy$training_pct <- 1.0\n",
        "\n",
        "\n",
        "PARAM$trainingstrategy$positivos <- c( \"BAJA+1\", \"BAJA+2\")"
      ]
    },
    {
      "cell_type": "code",
      "source": [
        "# seteo la clase01   1={BAJA+1, BAJA+2}   0={CONTINUA}\n",
        "dataset[, clase01 := ifelse( clase_ternaria %in% PARAM$trainingstrategy$positivos, 1, 0 )]"
      ],
      "metadata": {
        "id": "tv_trHWAj4a8"
      },
      "id": "tv_trHWAj4a8",
      "execution_count": null,
      "outputs": []
    },
    {
      "cell_type": "code",
      "source": [
        "# los campos en los que se entrena\n",
        "campos_buenos <- copy( setdiff(\n",
        "    colnames(dataset), c(\"clase_ternaria\",\"clase01\",\"azar\"))\n",
        ")"
      ],
      "metadata": {
        "id": "Ud_XDKSIj8f_"
      },
      "id": "Ud_XDKSIj8f_",
      "execution_count": null,
      "outputs": []
    },
    {
      "cell_type": "code",
      "source": [
        "# preparo para que se puede hacer undersampling de los CONTINUA\n",
        "#  solamente por un tema de VELOCIDAD\n",
        "set.seed(PARAM$semilla_primigenia, kind = \"L'Ecuyer-CMRG\")\n",
        "dataset[, azar:=runif(nrow(dataset))]\n",
        "\n",
        "# undersampling de los CONTINUA\n",
        "dataset[, fold_train :=  foto_mes %in%  PARAM$trainingstrategy$training &\n",
        "    (clase_ternaria %in% c(\"BAJA+1\", \"BAJA+2\") |\n",
        "     azar < PARAM$trainingstrategy$training_pct ) ]\n",
        "\n",
        "\n",
        "if( !require(\"lightgbm\")) install.packages(\"lightgbm\")\n",
        "require(\"lightgbm\")\n",
        "\n",
        "dtrain <- lgb.Dataset(\n",
        "  data= data.matrix(dataset[fold_train == TRUE, campos_buenos, with = FALSE]),\n",
        "  label= dataset[fold_train == TRUE, clase01],\n",
        "  free_raw_data= TRUE\n",
        ")"
      ],
      "metadata": {
        "id": "rFKgZZPSj_Pa",
        "colab": {
          "base_uri": "https://localhost:8080/"
        },
        "outputId": "5de1a681-fef8-42ec-a605-b255497aee2b"
      },
      "id": "rFKgZZPSj_Pa",
      "execution_count": null,
      "outputs": [
        {
          "output_type": "stream",
          "name": "stderr",
          "text": [
            "Loading required package: lightgbm\n",
            "\n",
            "Warning message in library(package, lib.loc = lib.loc, character.only = TRUE, logical.return = TRUE, :\n",
            "“there is no package called ‘lightgbm’”\n",
            "Installing package into ‘/usr/local/lib/R/site-library’\n",
            "(as ‘lib’ is unspecified)\n",
            "\n",
            "Loading required package: lightgbm\n",
            "\n"
          ]
        }
      ]
    },
    {
      "cell_type": "code",
      "source": [
        "# datos de validation\n",
        "dvalidate <- lgb.Dataset(\n",
        "  data= data.matrix(dataset[foto_mes %in% PARAM$trainingstrategy$validate, campos_buenos, with = FALSE]),\n",
        "  label= dataset[foto_mes %in% PARAM$trainingstrategy$validate, clase01],\n",
        "  free_raw_data= TRUE\n",
        ")\n",
        "\n",
        "nrow(dvalidate)"
      ],
      "metadata": {
        "id": "B3yo98kQkHcP",
        "colab": {
          "base_uri": "https://localhost:8080/",
          "height": 34
        },
        "outputId": "84cebcf3-59cd-45a8-a7a2-10a35602a304"
      },
      "id": "B3yo98kQkHcP",
      "execution_count": null,
      "outputs": [
        {
          "output_type": "display_data",
          "data": {
            "text/html": [
              "16551"
            ],
            "text/markdown": "16551",
            "text/latex": "16551",
            "text/plain": [
              "[1] 16551"
            ]
          },
          "metadata": {}
        }
      ]
    },
    {
      "cell_type": "markdown",
      "id": "28e8f788-551c-4e50-9029-302ac0834287",
      "metadata": {
        "id": "28e8f788-551c-4e50-9029-302ac0834287"
      },
      "source": [
        "####  6.3.2.2. Hyperparameter Tuning"
      ]
    },
    {
      "cell_type": "markdown",
      "id": "bf5fc836-e222-4aeb-a6a8-157346895ef7",
      "metadata": {
        "id": "bf5fc836-e222-4aeb-a6a8-157346895ef7"
      },
      "source": [
        "* Clase binaria que se optimiza :  positivos = [ BAJA+1, BAJA+2 ]"
      ]
    },
    {
      "cell_type": "markdown",
      "id": "885c03b5-77bc-4510-a930-0d1f14b52ffb",
      "metadata": {
        "id": "885c03b5-77bc-4510-a930-0d1f14b52ffb"
      },
      "source": [
        "* Metrica que se optimiza **AUC** Area Under Curve de la  ROC Curve\n",
        "\n",
        "es muy importante notar que intencionalmente  **NO** se está optimizando la funcion de ganancia del problema"
      ]
    },
    {
      "cell_type": "markdown",
      "id": "b7e6f95c-66ef-4ab9-9ba3-fcc099816704",
      "metadata": {
        "id": "b7e6f95c-66ef-4ab9-9ba3-fcc099816704"
      },
      "source": [
        "* Cantidad de iteraciones inteligentes de la Optimizacion Bayesiana = **10**"
      ]
    },
    {
      "cell_type": "markdown",
      "id": "fe047a87-e2d0-4418-97dd-0a881e66d73a",
      "metadata": {
        "id": "fe047a87-e2d0-4418-97dd-0a881e66d73a"
      },
      "source": [
        "* Parametros no default, fijos de LightGBM que no se optimizan\n",
        "  * max_bin = 31 , Alienigenas Ancestrales contruyeron las pirámides y dejaron a la humanidad en un jeroglifico  *max_bin=31*\n",
        "  * feature_fraction = 0.5  para poner algo que generalmente no falla\n",
        "  * learning_rate = 0.03  para que aprenda lento\n"
      ]
    },
    {
      "cell_type": "markdown",
      "id": "1e7da08e-fe57-4681-beff-11fe963116bd",
      "metadata": {
        "id": "1e7da08e-fe57-4681-beff-11fe963116bd"
      },
      "source": [
        "* Parametros que se optimizan en la Bayesian Optimization\n",
        "  * num_leaves  [8, 256]\n",
        "  * min_data_in_leaf  [8, 8192]"
      ]
    },
    {
      "cell_type": "code",
      "source": [
        "# paquetes necesarios para la Bayesian Optimization\n",
        "if(!require(\"DiceKriging\")) install.packages(\"DiceKriging\")\n",
        "require(\"DiceKriging\")\n",
        "\n",
        "if(!require(\"mlrMBO\")) install.packages(\"mlrMBO\")\n",
        "require(\"mlrMBO\")"
      ],
      "metadata": {
        "id": "34V6y4GetKq_",
        "colab": {
          "base_uri": "https://localhost:8080/"
        },
        "outputId": "8b3a5160-0bad-4970-87e4-bb6683427f19"
      },
      "id": "34V6y4GetKq_",
      "execution_count": null,
      "outputs": [
        {
          "output_type": "stream",
          "name": "stderr",
          "text": [
            "Loading required package: DiceKriging\n",
            "\n",
            "Warning message in library(package, lib.loc = lib.loc, character.only = TRUE, logical.return = TRUE, :\n",
            "“there is no package called ‘DiceKriging’”\n",
            "Installing package into ‘/usr/local/lib/R/site-library’\n",
            "(as ‘lib’ is unspecified)\n",
            "\n",
            "Loading required package: DiceKriging\n",
            "\n",
            "Loading required package: mlrMBO\n",
            "\n",
            "Warning message in library(package, lib.loc = lib.loc, character.only = TRUE, logical.return = TRUE, :\n",
            "“there is no package called ‘mlrMBO’”\n",
            "Installing package into ‘/usr/local/lib/R/site-library’\n",
            "(as ‘lib’ is unspecified)\n",
            "\n",
            "also installing the dependencies ‘XML’, ‘fastmatch’, ‘RcppArmadillo’, ‘mlr’, ‘ParamHelpers’, ‘smoof’, ‘BBmisc’, ‘checkmate’, ‘lhs’, ‘parallelMap’\n",
            "\n",
            "\n",
            "Loading required package: mlrMBO\n",
            "\n",
            "Loading required package: mlr\n",
            "\n",
            "Loading required package: ParamHelpers\n",
            "\n",
            "\n",
            "Attaching package: ‘ParamHelpers’\n",
            "\n",
            "\n",
            "The following object is masked from ‘package:R.utils’:\n",
            "\n",
            "    isVector\n",
            "\n",
            "\n",
            "\n",
            "Attaching package: ‘mlr’\n",
            "\n",
            "\n",
            "The following objects are masked from ‘package:R.utils’:\n",
            "\n",
            "    resample, setThreshold\n",
            "\n",
            "\n",
            "Loading required package: smoof\n",
            "\n",
            "Loading required package: checkmate\n",
            "\n",
            "\n",
            "Attaching package: ‘checkmate’\n",
            "\n",
            "\n",
            "The following object is masked from ‘package:DiceKriging’:\n",
            "\n",
            "    checkNames\n",
            "\n",
            "\n",
            "The following object is masked from ‘package:R.utils’:\n",
            "\n",
            "    asInt\n",
            "\n",
            "\n",
            "\n",
            "Attaching package: ‘smoof’\n",
            "\n",
            "\n",
            "The following objects are masked from ‘package:R.oo’:\n",
            "\n",
            "    getDescription, getName\n",
            "\n",
            "\n"
          ]
        }
      ]
    },
    {
      "cell_type": "markdown",
      "source": [
        "Definición de la Bayesian Optimization\n",
        "<br> Si se desea optimizar un hiperparámetro que esta como fijo, debe QUITARSE de param_fijos y agregarse a PARAM$hipeparametertuning$hs"
      ],
      "metadata": {
        "id": "UFbDSYtH0TTT"
      },
      "id": "UFbDSYtH0TTT"
    },
    {
      "cell_type": "code",
      "source": [
        "# valor ridiculamente bajo para que corra rapido en el aula y no molestar a la *Modalidad Gerencial*\n",
        "PARAM$hipeparametertuning$num_interations <- 10\n",
        "\n",
        "# parametros fijos del LightGBM\n",
        "PARAM$lgbm$param_fijos <- list(\n",
        "  objective= \"binary\",\n",
        "  metric= \"auc\",\n",
        "  first_metric_only= TRUE,\n",
        "  boost_from_average= TRUE,\n",
        "  feature_pre_filter= FALSE,\n",
        "  verbosity= -100,\n",
        "  force_row_wise= TRUE, # para evitar warning\n",
        "  seed= PARAM$semilla_primigenia,\n",
        "  max_bin= 31,\n",
        "  learning_rate= 0.03,\n",
        "  feature_fraction= 0.5,\n",
        "  num_iterations= 2048,  # valor grande, lo limita early_stopping_rounds\n",
        "  early_stopping_rounds= 200\n",
        ")\n",
        "\n",
        "PARAM$hipeparametertuning$hs <- makeParamSet(\n",
        "  makeIntegerParam(\"num_leaves\", lower = 2L, upper = 256L),\n",
        "  makeIntegerParam(\"min_data_in_leaf\", lower = 2L, upper = 8192L)\n",
        ")"
      ],
      "metadata": {
        "id": "5Uag3XGHqrfZ"
      },
      "id": "5Uag3XGHqrfZ",
      "execution_count": null,
      "outputs": []
    },
    {
      "cell_type": "markdown",
      "source": [
        "Función \"señora caja negra\"  que es llamada para verificar la realidad por la Bayesian Optimization"
      ],
      "metadata": {
        "id": "FEa1UuuAz4yj"
      },
      "id": "FEa1UuuAz4yj"
    },
    {
      "cell_type": "code",
      "execution_count": null,
      "id": "2c10f535-8d90-47d1-ac3d-9b4c24ec21d2",
      "metadata": {
        "id": "2c10f535-8d90-47d1-ac3d-9b4c24ec21d2"
      },
      "outputs": [],
      "source": [
        "# En  x llegan los parmaetros de la bayesiana\n",
        "#  devuelve la AUC en validate del modelo entrenado\n",
        "#  en el parametro x llegan los hiperparámetros que se estan optimizando\n",
        "\n",
        "EstimarGanancia_AUC_lightgbm <- function(x) {\n",
        "\n",
        "  # x pisa (o agrega) a param_fijos\n",
        "  param_completo <- modifyList(PARAM$lgbm$param_fijos, x)\n",
        "\n",
        "  # entreno LightGBM\n",
        "  modelo_train <- lgb.train(\n",
        "    data= dtrain,\n",
        "    valids= list(valid = dvalidate),\n",
        "    eval= \"auc\",\n",
        "    param= param_completo,\n",
        "    verbose= -100\n",
        "  )\n",
        "\n",
        "  # recupero la AUC en validation\n",
        "  AUC <- modelo_train$record_evals$valid$auc$eval[[modelo_train$best_iter]]\n",
        "\n",
        "  # esta es la forma de devolver un parametro extra\n",
        "  attr(AUC, \"extras\") <- list(\"num_iterations\"= modelo_train$best_iter)\n",
        "\n",
        "  # hago espacio en la memoria\n",
        "  rm(modelo_train)\n",
        "  gc(full= TRUE, verbose= FALSE)\n",
        "\n",
        "  message(format(Sys.time(), \"%a %b %d %X %Y\"), \" AUC \", AUC)\n",
        "\n",
        "  return(AUC)\n",
        "}"
      ]
    },
    {
      "cell_type": "markdown",
      "id": "267a35d4-adaf-4271-a875-3864111333b7",
      "metadata": {
        "id": "267a35d4-adaf-4271-a875-3864111333b7"
      },
      "source": [
        "seteo de la Bayesian Optimization (complejo)\n",
        "<br> copiado y pegado de la documentación de la librería"
      ]
    },
    {
      "cell_type": "code",
      "execution_count": null,
      "id": "43c2a92d-1041-46b8-bff2-47297f209ed2",
      "metadata": {
        "id": "43c2a92d-1041-46b8-bff2-47297f209ed2"
      },
      "outputs": [],
      "source": [
        "configureMlr(show.learner.output = FALSE)\n",
        "\n",
        "# configuro la busqueda bayesiana,  los hiperparametros que se van a optimizar\n",
        "# por favor, no desesperarse por lo complejo\n",
        "obj.fun <- makeSingleObjectiveFunction(\n",
        "    fn= EstimarGanancia_AUC_lightgbm, # la funcion que voy a maximizar\n",
        "    minimize= FALSE, # estoy Maximizando AUC\n",
        "    noisy= FALSE,\n",
        "    par.set= PARAM$hipeparametertuning$hs,\n",
        "    has.simple.signature= FALSE # paso los parametros en una lista\n",
        ")\n",
        "\n",
        "# cada 600 segundos guardo el resultado intermedio\n",
        "ctrl <- makeMBOControl(\n",
        "    save.on.disk.at.time= 600,\n",
        "    save.file.path= \"HT.RDATA\"\n",
        ")\n",
        "\n",
        "# indico la cantidad de iteraciones que va a tener la Bayesian Optimization\n",
        "ctrl <- setMBOControlTermination(\n",
        "    ctrl,\n",
        "    iters= PARAM$hipeparametertuning$num_interations  # cantidad de iteraciones inteligentes\n",
        ")\n",
        "\n",
        "# defino el método estandar para la creacion de los puntos iniciales\n",
        "#   los \"No Inteligentes\"\n",
        "ctrl <- setMBOControlInfill(ctrl, crit = makeMBOInfillCritEI())\n",
        "\n",
        "# mas configuraciones\n",
        "surr.km <- makeLearner(\n",
        "    \"regr.km\",\n",
        "    predict.type= \"se\",\n",
        "    covtype= \"matern3_2\",\n",
        "    control= list(trace = TRUE)\n",
        ")"
      ]
    },
    {
      "cell_type": "markdown",
      "id": "6c1e5645-d26f-4923-a53f-f30471a4c4e8",
      "metadata": {
        "id": "6c1e5645-d26f-4923-a53f-f30471a4c4e8"
      },
      "source": [
        "Corrida de la Bayesian Optimization,  aqui se hace el trabajo pesado\n",
        "<br> por favor no se asuste con los warnings que pudieran aparecer\n",
        "\n",
        "Si corrío a medias y llegó a las iteraciones inteligentes, en el archivo binario HT.RDATA quedó lo ya procesado y es utilizado para retomar la corrida desde lo último que llegó a grabar."
      ]
    },
    {
      "cell_type": "code",
      "execution_count": null,
      "id": "1f8cab3f-c7e2-4802-bfd1-5ad509922a4e",
      "metadata": {
        "scrolled": true,
        "id": "1f8cab3f-c7e2-4802-bfd1-5ad509922a4e",
        "colab": {
          "base_uri": "https://localhost:8080/"
        },
        "outputId": "fc91bda7-e382-4840-e807-c32cd3c580bc"
      },
      "outputs": [
        {
          "output_type": "stream",
          "name": "stderr",
          "text": [
            "Warning message in mboContinue(\"HT.RDATA\"):\n",
            "“Tuning ended with term.iter. No need to continue. Simply returning stored result.”\n"
          ]
        }
      ],
      "source": [
        "# inicio la optimizacion bayesiana\n",
        "\n",
        "if (!file.exists(\"HT.RDATA\")) {\n",
        "  bayesiana_salida <- mbo(obj.fun, learner= surr.km, control= ctrl)\n",
        "} else {\n",
        "  bayesiana_salida <- mboContinue(\"HT.RDATA\") # retomo en caso que ya exista\n",
        "}"
      ]
    },
    {
      "cell_type": "markdown",
      "id": "36307612-964f-4df3-907a-1bc3c095f178",
      "metadata": {
        "id": "36307612-964f-4df3-907a-1bc3c095f178"
      },
      "source": [
        "la bayesian optimization ha corrido, extraigo los mejores hiperparametros"
      ]
    },
    {
      "cell_type": "code",
      "execution_count": null,
      "id": "8c061a2a-3341-4006-a154-c95bb6cfd407",
      "metadata": {
        "id": "8c061a2a-3341-4006-a154-c95bb6cfd407",
        "colab": {
          "base_uri": "https://localhost:8080/"
        },
        "outputId": "2e048944-7183-4033-b404-87205cb50e20"
      },
      "outputs": [
        {
          "output_type": "stream",
          "name": "stdout",
          "text": [
            "   num_leaves min_data_in_leaf num_iterations\n",
            "        <int>            <int>          <int>\n",
            "1:        113              287            261\n"
          ]
        }
      ],
      "source": [
        "# almaceno los resultados de la Bayesian Optimization\n",
        "# y capturo los mejores hiperparametros encontrados\n",
        "\n",
        "tb_bayesiana <- as.data.table(bayesiana_salida$opt.path)\n",
        "\n",
        "# ordeno en forma descendente por AUC = y\n",
        "setorder(tb_bayesiana, -y, -num_iterations)\n",
        "\n",
        "# grabo para eventualmente poder utilizarlos en OTRA corrida\n",
        "fwrite( tb_bayesiana,\n",
        "  file=\"BO_log.txt\",\n",
        "  sep=\"\\t\"\n",
        ")\n",
        "\n",
        "# los mejores hiperparámetros son los que quedaron en el registro 1 de la tabla\n",
        "PARAM$out$lgbm$mejores_hiperparametros <- tb_bayesiana[\n",
        "  1, # el primero es el de mejor AUC\n",
        "  list(num_leaves, min_data_in_leaf, num_iterations)\n",
        "]\n",
        "\n",
        "print(PARAM$out$lgbm$mejores_hiperparametros)"
      ]
    },
    {
      "cell_type": "markdown",
      "id": "ddb554cb-1d96-4f6b-ae1c-c9a076f8dbdc",
      "metadata": {
        "id": "ddb554cb-1d96-4f6b-ae1c-c9a076f8dbdc"
      },
      "source": [
        "### 6.3.3 Produccion"
      ]
    },
    {
      "cell_type": "markdown",
      "id": "c39492c3-756f-47a5-8747-93ade8275306",
      "metadata": {
        "id": "c39492c3-756f-47a5-8747-93ade8275306"
      },
      "source": [
        "#### Final Training\n",
        "Construyo el modelo final, que es uno solo, no hace ningun tipo de particion < training, validation, testing>]"
      ]
    },
    {
      "cell_type": "markdown",
      "source": [
        "##### Final Training Dataset\n",
        "\n",
        "Aqui esta la gran decision de en qué meses hago el Final Training\n",
        "<br> debo utilizar los mejores hiperparámetros que encontré en la optimización bayesiana"
      ],
      "metadata": {
        "id": "xhKi_G_sYQqq"
      },
      "id": "xhKi_G_sYQqq"
    },
    {
      "cell_type": "code",
      "source": [
        "PARAM$trainingstrategy$final_train <- c( 202107,\n",
        "  202106, 202105, 202104, 202103, 202102, 202101,\n",
        "  202012, 202011, 202010, 202009, 202008, 202007,\n",
        "  202006, 202005\n",
        ")\n",
        "\n",
        "dataset[, fold_final_train := foto_mes %in% PARAM$trainingstrategy$final_train ]\n",
        "\n",
        "# creo el dfinal_train en formato  LightGBM\n",
        "dfinal_train <- lgb.Dataset(\n",
        "  data= data.matrix(dataset[fold_final_train == TRUE, campos_buenos, with= FALSE]),\n",
        "  label= dataset[fold_final_train == TRUE, clase01],\n",
        "  free_raw_data= TRUE\n",
        ")\n",
        "\n",
        "nrow( dfinal_train) # verifico el tamaño"
      ],
      "metadata": {
        "id": "qyHfS_X0zd7o",
        "colab": {
          "base_uri": "https://localhost:8080/",
          "height": 34
        },
        "outputId": "b93d89b7-b84c-4bf5-ca6a-f8f34243636a"
      },
      "id": "qyHfS_X0zd7o",
      "execution_count": null,
      "outputs": [
        {
          "output_type": "display_data",
          "data": {
            "text/html": [
              "240562"
            ],
            "text/markdown": "240562",
            "text/latex": "240562",
            "text/plain": [
              "[1] 240562"
            ]
          },
          "metadata": {}
        }
      ]
    },
    {
      "cell_type": "markdown",
      "source": [
        "##### Final Training Hyperparameters"
      ],
      "metadata": {
        "id": "HATRyklxYUpT"
      },
      "id": "HATRyklxYUpT"
    },
    {
      "cell_type": "code",
      "execution_count": null,
      "id": "d6b9f33c-e0a0-4ea6-8169-4a6180cc5d01",
      "metadata": {
        "id": "d6b9f33c-e0a0-4ea6-8169-4a6180cc5d01"
      },
      "outputs": [],
      "source": [
        "# uno los parametros fijos y los mejores encontrados de los variables\n",
        "fijos <- copy(PARAM$lgbm$param_fijos)\n",
        "\n",
        "# quito lo que optimice en la Bayesian Optimization\n",
        "fijos$num_iterations <- NULL\n",
        "fijos$early_stopping_rounds <- NULL\n",
        "\n",
        "# agrego a los hiperparametros fijos los que encontre con la Bayesian Optimization\n",
        "param_final <- c(fijos, PARAM$out$lgbm$mejores_hiperparametros)"
      ]
    },
    {
      "cell_type": "markdown",
      "id": "05d3494f-0401-4f3e-9b69-f488a737879d",
      "metadata": {
        "id": "05d3494f-0401-4f3e-9b69-f488a737879d"
      },
      "source": [
        "##### Training, Scoring y Kaggle Competition Submit\n",
        "Genero el modelo final, siempre sobre TODOS los datos de  final_train, sin hacer ningun tipo de undersampling de la clase mayoritaria. Luego aplico el modelo final a los datos del futuro, genero salidas y hago los submits a Kaggle  "
      ]
    },
    {
      "cell_type": "code",
      "execution_count": null,
      "id": "fa239848-1c28-4ee5-984a-073903b4b279",
      "metadata": {
        "id": "fa239848-1c28-4ee5-984a-073903b4b279",
        "colab": {
          "base_uri": "https://localhost:8080/",
          "height": 225
        },
        "outputId": "aa491a97-7a1f-44c8-a18f-1d52a4b490ae"
      },
      "outputs": [
        {
          "output_type": "stream",
          "name": "stdout",
          "text": [
            "Successfully submitted to Data Mining, Gerencial 2025A \n",
            "Successfully submitted to Data Mining, Gerencial 2025A \n",
            "Successfully submitted to Data Mining, Gerencial 2025A \n",
            "Successfully submitted to Data Mining, Gerencial 2025A \n",
            "Successfully submitted to Data Mining, Gerencial 2025A \n",
            "Successfully submitted to Data Mining, Gerencial 2025A \n",
            "Successfully submitted to Data Mining, Gerencial 2025A \n",
            "Successfully submitted to Data Mining, Gerencial 2025A \n",
            "Successfully submitted to Data Mining, Gerencial 2025A \n",
            "Successfully submitted to Data Mining, Gerencial 2025A \n",
            "Successfully submitted to Data Mining, Gerencial 2025A \n"
          ]
        },
        {
          "output_type": "display_data",
          "data": {
            "text/html": [
              "'Sat Aug 16 02:03:12 PM 2025'"
            ],
            "text/markdown": "'Sat Aug 16 02:03:12 PM 2025'",
            "text/latex": "'Sat Aug 16 02:03:12 PM 2025'",
            "text/plain": [
              "[1] \"Sat Aug 16 02:03:12 PM 2025\""
            ]
          },
          "metadata": {}
        }
      ],
      "source": [
        "# -----------------------------\n",
        "# 1️⃣ Definir semillas y entrenar modelos\n",
        "# -----------------------------\n",
        "seeds <- c(111121, 222229, 333331, 444443, 555557)\n",
        "\n",
        "#todas las semillas\n",
        "#111121, 222229, 333331, 444443, 555557, 245311, 543121, 354211, 351231, 442211,\n",
        "#672891, 158234, 745621, 981432, 317654, 823145, 456789, 214365, 937462, 586214,\n",
        "#761328, 492817, 103254, 678943, 829176, 345671, 512498, 394857, 726491, 851237,\n",
        "#412369, 597824, 638195, 174839, 285761, 463218, 759134, 921847, 384216, 547129\n",
        "\n",
        "modelos <- list()\n",
        "\n",
        "for (s in seeds) {\n",
        "  param_final$seed <- s\n",
        "  modelos[[as.character(s)]] <- lgb.train(\n",
        "    data    = dfinal_train,\n",
        "    param   = param_final,\n",
        "    verbose = -100\n",
        "  )\n",
        "}\n",
        "\n",
        "# -----------------------------\n",
        "# 2️⃣ Promedio de predicciones (ensemble)\n",
        "# -----------------------------\n",
        "PARAM$trainingstrategy$future <- c(202109)\n",
        "dfuture <- dataset[ foto_mes %in% PARAM$trainingstrategy$future ]\n",
        "\n",
        "predicciones <- sapply(modelos, function(m) {\n",
        "  predict(m, data.matrix(dfuture[, campos_buenos, with=FALSE]))\n",
        "})\n",
        "\n",
        "pred_promedio <- rowMeans(predicciones)\n",
        "\n",
        "tb_prediccion <- dfuture[, list(numero_de_cliente)]\n",
        "tb_prediccion[, prob := pred_promedio]\n",
        "\n",
        "# Guardar probabilidades del ensemble\n",
        "fwrite(tb_prediccion, file = \"prediccion_ensemble.txt\", sep = \"\\t\")\n",
        "\n",
        "# -----------------------------\n",
        "# 3️⃣ Importancia promedio de variables\n",
        "# -----------------------------\n",
        "importancias <- lapply(modelos, lgb.importance)\n",
        "\n",
        "# Todas las features únicas\n",
        "all_features <- unique(unlist(lapply(importancias, function(x) x$Feature)))\n",
        "gain_mat <- data.table(Feature = all_features)\n",
        "\n",
        "for (i in seq_along(importancias)) {\n",
        "  tmp <- importancias[[i]][, .(Feature, Gain)]\n",
        "  setkey(tmp, Feature)\n",
        "  gain_mat <- merge(gain_mat, tmp, by = \"Feature\", all.x = TRUE, sort = FALSE)\n",
        "  setnames(gain_mat, \"Gain\", paste0(\"Gain_\", i))\n",
        "}\n",
        "\n",
        "# Promedio ignorando NA\n",
        "gain_mat[, avg_gain := rowMeans(.SD, na.rm = TRUE), .SDcols = patterns(\"^Gain_\")]\n",
        "\n",
        "# Ordenar por promedio\n",
        "gain_mat <- gain_mat[order(-avg_gain)]\n",
        "\n",
        "# Guardar importancia promedio\n",
        "fwrite(gain_mat, file = \"importancia_promedio_ensemble.txt\", sep = \"\\t\")\n",
        "\n",
        "# -----------------------------\n",
        "# 4️⃣ Generar archivos de envío a Kaggle\n",
        "# -----------------------------\n",
        "PARAM$kaggle$competencia <- \"data-mining-gerencial-2025-a\"\n",
        "PARAM$kaggle$cortes <- seq(800, 1300, by = 50)\n",
        "\n",
        "setorder(tb_prediccion, -prob)\n",
        "dir.create(\"kaggle\", showWarnings = FALSE)\n",
        "\n",
        "for (envios in PARAM$kaggle$cortes) {\n",
        "  tb_prediccion[, Predicted := 0L]\n",
        "  tb_prediccion[1:envios, Predicted := 1L]\n",
        "\n",
        "  archivo_kaggle <- paste0(\"./kaggle/KA\", PARAM$experimento, \"_\", envios, \".csv\")\n",
        "  fwrite(tb_prediccion[, list(numero_de_cliente, Predicted)],\n",
        "         file = archivo_kaggle,\n",
        "         sep = \",\")\n",
        "\n",
        "  # Subida a Kaggle\n",
        "  comando <- \"kaggle competitions submit\"\n",
        "  competencia <- paste(\"-c\", PARAM$kaggle$competencia)\n",
        "  arch <- paste(\"-f\", archivo_kaggle)\n",
        "  mensaje <- paste0(\"-m 'envios=\", envios, \"  semillas=\", paste(seeds, collapse=\",\"), \"'\")\n",
        "  linea <- paste(comando, competencia, arch, mensaje)\n",
        "  salida <- system(linea, intern=TRUE)\n",
        "  cat(salida, \"\\n\")\n",
        "}\n",
        "\n",
        "# -----------------------------\n",
        "# 5️⃣ Guardar parámetros y timestamp\n",
        "# -----------------------------\n",
        "if (!require(\"yaml\")) install.packages(\"yaml\")\n",
        "require(yaml)\n",
        "write_yaml(PARAM, file=\"PARAM.yml\")\n",
        "\n",
        "format(Sys.time(), \"%a %b %d %X %Y\")"
      ]
    }
  ],
  "metadata": {
    "kernelspec": {
      "display_name": "R",
      "name": "ir"
    },
    "language_info": {
      "name": "R"
    },
    "colab": {
      "provenance": [],
      "include_colab_link": true
    }
  },
  "nbformat": 4,
  "nbformat_minor": 5
}